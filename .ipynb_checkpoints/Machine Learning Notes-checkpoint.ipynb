{
 "cells": [
  {
   "cell_type": "markdown",
   "metadata": {},
   "source": [
    "# NumPy"
   ]
  },
  {
   "cell_type": "markdown",
   "metadata": {},
   "source": [
    "## Creating Arrays"
   ]
  },
  {
   "cell_type": "markdown",
   "metadata": {},
   "source": [
    "### `arange()`"
   ]
  },
  {
   "cell_type": "code",
   "execution_count": 1,
   "metadata": {},
   "outputs": [
    {
     "name": "stdout",
     "output_type": "stream",
     "text": [
      "[0 1 2 3 4 5 6 7 8 9]\n",
      "\n",
      "[0 2 4 6 8]\n"
     ]
    }
   ],
   "source": [
    "import numpy as np\n",
    "\n",
    "a = np.arange(10)\n",
    "print(a)\n",
    "\n",
    "print()\n",
    "\n",
    "b = np.arange(0,10,2)\n",
    "print(b)"
   ]
  },
  {
   "cell_type": "markdown",
   "metadata": {},
   "source": [
    "### `zeros()`"
   ]
  },
  {
   "cell_type": "code",
   "execution_count": 2,
   "metadata": {},
   "outputs": [
    {
     "name": "stdout",
     "output_type": "stream",
     "text": [
      "[0. 0. 0. 0. 0.]\n",
      "\n",
      "[[0. 0. 0.]\n",
      " [0. 0. 0.]]\n"
     ]
    }
   ],
   "source": [
    "import numpy as np\n",
    "\n",
    "a = np.zeros(5)\n",
    "print(a)\n",
    "\n",
    "print()\n",
    "\n",
    "b = np.zeros((2,3))\n",
    "print(b)"
   ]
  },
  {
   "cell_type": "markdown",
   "metadata": {},
   "source": [
    "### `full()`"
   ]
  },
  {
   "cell_type": "code",
   "execution_count": 3,
   "metadata": {},
   "outputs": [
    {
     "name": "stdout",
     "output_type": "stream",
     "text": [
      "[[8 8 8]\n",
      " [8 8 8]]\n"
     ]
    }
   ],
   "source": [
    "import numpy as np\n",
    "\n",
    "a = np.full((2,3), 8)\n",
    "print(a)"
   ]
  },
  {
   "cell_type": "markdown",
   "metadata": {},
   "source": [
    "### `eye()`"
   ]
  },
  {
   "cell_type": "code",
   "execution_count": 4,
   "metadata": {},
   "outputs": [
    {
     "name": "stdout",
     "output_type": "stream",
     "text": [
      "[[1. 0. 0. 0.]\n",
      " [0. 1. 0. 0.]\n",
      " [0. 0. 1. 0.]\n",
      " [0. 0. 0. 1.]]\n"
     ]
    }
   ],
   "source": [
    "import numpy as np\n",
    "\n",
    "a = np.eye(4)\n",
    "print(a)"
   ]
  },
  {
   "cell_type": "markdown",
   "metadata": {},
   "source": [
    "### `random()`\n",
    "\n",
    "Goes from 0 (inclusive) to 1 (exclusive)"
   ]
  },
  {
   "cell_type": "code",
   "execution_count": 5,
   "metadata": {},
   "outputs": [
    {
     "name": "stdout",
     "output_type": "stream",
     "text": [
      "[[0.97852653 0.19975697 0.77728757 0.30968452]\n",
      " [0.61081188 0.15399567 0.99342223 0.0154658 ]]\n"
     ]
    }
   ],
   "source": [
    "import numpy as np\n",
    "\n",
    "a = np.random.random((2,4))\n",
    "print(a)"
   ]
  },
  {
   "cell_type": "markdown",
   "metadata": {},
   "source": [
    "### `array()`"
   ]
  },
  {
   "cell_type": "code",
   "execution_count": 6,
   "metadata": {},
   "outputs": [
    {
     "name": "stdout",
     "output_type": "stream",
     "text": [
      "[1 2 3 4 5]\n"
     ]
    }
   ],
   "source": [
    "import numpy as np\n",
    "\n",
    "listy = [1, 2, 3, 4, 5]\n",
    "\n",
    "a = np.array(listy)\n",
    "print(a)"
   ]
  },
  {
   "cell_type": "code",
   "execution_count": 7,
   "metadata": {},
   "outputs": [
    {
     "name": "stdout",
     "output_type": "stream",
     "text": [
      "[[1 2 3 4 5]\n",
      " [6 7 8 9 0]]\n"
     ]
    }
   ],
   "source": [
    "import numpy as np\n",
    "\n",
    "list1 = [1, 2, 3, 4, 5]\n",
    "list2 = [6, 7, 8, 9, 0]\n",
    "\n",
    "a = np.array([list1, list2])\n",
    "print(a)"
   ]
  },
  {
   "cell_type": "markdown",
   "metadata": {},
   "source": [
    "## Array Indexing"
   ]
  },
  {
   "cell_type": "code",
   "execution_count": 8,
   "metadata": {},
   "outputs": [
    {
     "name": "stdout",
     "output_type": "stream",
     "text": [
      "1\n"
     ]
    }
   ],
   "source": [
    "import numpy as np\n",
    "\n",
    "a = [1, 2, 3, 4, 5]\n",
    "\n",
    "print(a[0])"
   ]
  },
  {
   "cell_type": "code",
   "execution_count": 9,
   "metadata": {},
   "outputs": [
    {
     "name": "stdout",
     "output_type": "stream",
     "text": [
      "1\n"
     ]
    }
   ],
   "source": [
    "import numpy as np\n",
    "\n",
    "a = [1, 2, 3, 4, 5]\n",
    "b = [6, 7, 8, 9, 0]\n",
    "c = np.array([a,b])\n",
    "\n",
    "print(c[0,0])"
   ]
  },
  {
   "cell_type": "code",
   "execution_count": 10,
   "metadata": {},
   "outputs": [
    {
     "name": "stdout",
     "output_type": "stream",
     "text": [
      "[3 5]\n"
     ]
    }
   ],
   "source": [
    "import numpy as np\n",
    "\n",
    "a = [1, 2, 3, 4, 5]\n",
    "c = np.array(a)\n",
    "\n",
    "print(c[[2,4]])"
   ]
  },
  {
   "cell_type": "markdown",
   "metadata": {},
   "source": [
    "### Boolean Indexing"
   ]
  },
  {
   "cell_type": "code",
   "execution_count": 11,
   "metadata": {},
   "outputs": [
    {
     "name": "stdout",
     "output_type": "stream",
     "text": [
      "[False False  True  True  True]\n",
      "\n",
      "[3 4 5]\n"
     ]
    }
   ],
   "source": [
    "import numpy as np\n",
    "\n",
    "a = [1, 2, 3, 4, 5]\n",
    "c = np.array(a)\n",
    "\n",
    "print(c > 2)\n",
    "\n",
    "print()\n",
    "\n",
    "print(c[c > 2])"
   ]
  },
  {
   "cell_type": "markdown",
   "metadata": {},
   "source": [
    "### Slicing Arrays"
   ]
  },
  {
   "cell_type": "code",
   "execution_count": 12,
   "metadata": {},
   "outputs": [
    {
     "name": "stdout",
     "output_type": "stream",
     "text": [
      "[ 1  3  5  7  9 11 13 15 17 19]\n"
     ]
    }
   ],
   "source": [
    "import numpy as np\n",
    "\n",
    "a = np.arange(20)\n",
    "odd_nums = a[a % 2 == 1]\n",
    "\n",
    "print(odd_nums)"
   ]
  },
  {
   "cell_type": "code",
   "execution_count": 13,
   "metadata": {},
   "outputs": [
    {
     "name": "stdout",
     "output_type": "stream",
     "text": [
      "[[4 5 6]\n",
      " [9 8 7]]\n",
      "\n",
      "[[7 8]\n",
      " [6 5]]\n"
     ]
    }
   ],
   "source": [
    "import numpy as np\n",
    "\n",
    "a = np.array([[1, 2, 3, 4, 5],\n",
    "              [4, 5, 6, 7, 8],\n",
    "              [9, 8, 7, 6, 5]])\n",
    "b = a[1:3, :3]\n",
    "\n",
    "print(b)\n",
    "\n",
    "print()\n",
    "\n",
    "c = a[-2:, -2:]\n",
    "print(c)"
   ]
  },
  {
   "cell_type": "markdown",
   "metadata": {},
   "source": [
    "Slicing returns a reference (not a copy) to the original array"
   ]
  },
  {
   "cell_type": "code",
   "execution_count": 14,
   "metadata": {},
   "outputs": [
    {
     "name": "stdout",
     "output_type": "stream",
     "text": [
      "[[6 7 8]\n",
      " [7 6 5]]\n",
      "\n",
      "[[ 1  2  3  4  5]\n",
      " [ 4  5  6  7 88]\n",
      " [ 9  8  7  6  5]]\n"
     ]
    }
   ],
   "source": [
    "import numpy as np\n",
    "\n",
    "a = np.array([[1, 2, 3, 4, 5],\n",
    "              [4, 5, 6, 7, 8],\n",
    "              [9, 8, 7, 6, 5]])\n",
    "b = a[1:, 2:]\n",
    "\n",
    "print(b)\n",
    "\n",
    "print()\n",
    "\n",
    "b[0,2] = 88\n",
    "\n",
    "print(a)"
   ]
  },
  {
   "cell_type": "markdown",
   "metadata": {},
   "source": [
    "Result of slicing is dependent on how it is sliced"
   ]
  },
  {
   "cell_type": "code",
   "execution_count": 15,
   "metadata": {},
   "outputs": [
    {
     "name": "stdout",
     "output_type": "stream",
     "text": [
      "[[9 8 7 6 5]]\n",
      "(1, 5)\n",
      "\n",
      "[9 8 7 6 5]\n",
      "(5,)\n"
     ]
    }
   ],
   "source": [
    "import numpy as np\n",
    "\n",
    "a = np.array([[1, 2, 3, 4, 5],\n",
    "              [4, 5, 6, 7, 8],\n",
    "              [9, 8, 7, 6, 5]])\n",
    "b = a[2:, :]\n",
    "\n",
    "print(b)\n",
    "print(b.shape)\n",
    "\n",
    "print()\n",
    "\n",
    "c = a[2, :]\n",
    "\n",
    "print(c)\n",
    "print(c.shape)"
   ]
  },
  {
   "cell_type": "markdown",
   "metadata": {},
   "source": [
    "## Reshaping Arrays"
   ]
  },
  {
   "cell_type": "markdown",
   "metadata": {},
   "source": [
    "### `reshape()`"
   ]
  },
  {
   "cell_type": "code",
   "execution_count": 16,
   "metadata": {},
   "outputs": [
    {
     "name": "stdout",
     "output_type": "stream",
     "text": [
      "[9 8 7 6 5]\n",
      "\n",
      "[[9 8 7 6 5]]\n"
     ]
    }
   ],
   "source": [
    "# convert rank 1 array to rank 2\n",
    "\n",
    "import numpy as np\n",
    "\n",
    "a = np.array([[1, 2, 3, 4, 5],\n",
    "              [4, 5, 6, 7, 8],\n",
    "              [9, 8, 7, 6, 5]])\n",
    "b = a[2, :]\n",
    "\n",
    "print(b)\n",
    "\n",
    "print()\n",
    "\n",
    "b = b.reshape(1, -1) # -1 means automatically determine\n",
    "print(b)\n",
    "# output is same as reshape(1,5)"
   ]
  },
  {
   "cell_type": "code",
   "execution_count": 17,
   "metadata": {},
   "outputs": [
    {
     "name": "stdout",
     "output_type": "stream",
     "text": [
      "[[9 8 7 6 5]]\n",
      "\n",
      "[9 8 7 6 5]\n"
     ]
    }
   ],
   "source": [
    "# convert rank 2 array to rank 1\n",
    "\n",
    "import numpy as np\n",
    "\n",
    "a = np.array([[1, 2, 3, 4, 5],\n",
    "              [4, 5, 6, 7, 8],\n",
    "              [9, 8, 7, 6, 5]])\n",
    "b = a[2:, :]\n",
    "\n",
    "print(b)\n",
    "\n",
    "print()\n",
    "\n",
    "b = b.reshape(-1,)\n",
    "print(b)"
   ]
  },
  {
   "cell_type": "markdown",
   "metadata": {},
   "source": [
    "## Array Math"
   ]
  },
  {
   "cell_type": "markdown",
   "metadata": {},
   "source": [
    "### Addition / Subtraction / Multiplication / Division"
   ]
  },
  {
   "cell_type": "code",
   "execution_count": 18,
   "metadata": {},
   "outputs": [
    {
     "name": "stdout",
     "output_type": "stream",
     "text": [
      "[[ 8 10 12]\n",
      " [ 6  8 10]]\n",
      "\n",
      "[[-6 -6 -6]\n",
      " [ 2  2  2]]\n",
      "\n",
      "[[ 7 16 27]\n",
      " [ 8 15 24]]\n",
      "\n",
      "[[0.14285714 0.25       0.33333333]\n",
      " [2.         1.66666667 1.5       ]]\n"
     ]
    }
   ],
   "source": [
    "import numpy as np\n",
    "\n",
    "x = np.array([[1, 2, 3], [4, 5, 6]])\n",
    "y = np.array([[7, 8, 9], [2 ,3, 4]])\n",
    "\n",
    "print(x+y) # same as np.add(x,y)\n",
    "print()\n",
    "print(x-y) # same as np.subtract(x,y)\n",
    "print()\n",
    "print(x*y) # same as np.multiply(x,y)\n",
    "print()\n",
    "print(x/y) # same as np.divide(x,y)"
   ]
  },
  {
   "cell_type": "markdown",
   "metadata": {},
   "source": [
    "### Dot Product"
   ]
  },
  {
   "cell_type": "markdown",
   "metadata": {},
   "source": [
    "### `dot()`"
   ]
  },
  {
   "cell_type": "code",
   "execution_count": 19,
   "metadata": {},
   "outputs": [
    {
     "name": "stdout",
     "output_type": "stream",
     "text": [
      "14\n"
     ]
    }
   ],
   "source": [
    "import numpy as np\n",
    "\n",
    "x = np.array([2, 3])\n",
    "y = np.array([4, 2])\n",
    "\n",
    "print(np.dot(x,y)) # 2*4 + 3*2"
   ]
  },
  {
   "cell_type": "markdown",
   "metadata": {},
   "source": [
    "A dot product of two rank 2 arrays is the same as matrix multiplication"
   ]
  },
  {
   "cell_type": "code",
   "execution_count": 20,
   "metadata": {},
   "outputs": [
    {
     "name": "stdout",
     "output_type": "stream",
     "text": [
      "[[ 58  64]\n",
      " [139 154]]\n"
     ]
    }
   ],
   "source": [
    "import numpy as np\n",
    "\n",
    "x = np.array([[1, 2, 3], [4, 5, 6]])\n",
    "y = np.array([[7, 8], [9, 10], [11, 12]])\n",
    "\n",
    "print(np.dot(x,y))"
   ]
  },
  {
   "cell_type": "markdown",
   "metadata": {},
   "source": [
    "## Matrix"
   ]
  },
  {
   "cell_type": "markdown",
   "metadata": {},
   "source": [
    "Matrices are two-dimensional while `ndarrays` are multidimensional"
   ]
  },
  {
   "cell_type": "code",
   "execution_count": 21,
   "metadata": {},
   "outputs": [
    {
     "name": "stdout",
     "output_type": "stream",
     "text": [
      "[[1 2]\n",
      " [4 5]]\n"
     ]
    }
   ],
   "source": [
    "import numpy as np\n",
    "\n",
    "x = np.matrix([[1, 2], [4, 5]])\n",
    "\n",
    "print(x)"
   ]
  },
  {
   "cell_type": "code",
   "execution_count": 22,
   "metadata": {},
   "outputs": [
    {
     "name": "stdout",
     "output_type": "stream",
     "text": [
      "[[1 2]\n",
      " [3 4]]\n"
     ]
    }
   ],
   "source": [
    "# convert NumPy array to matrix\n",
    "\n",
    "import numpy as np\n",
    "\n",
    "x = np.array([[1, 2], [3, 4]])\n",
    "y = np.asmatrix(x)\n",
    "\n",
    "print(y)"
   ]
  },
  {
   "cell_type": "markdown",
   "metadata": {},
   "source": [
    "When multiplying two `ndarray`s, the result is element-wise multiplication.\n",
    "\n",
    "When multiplying two matrices, the result is the dot product."
   ]
  },
  {
   "cell_type": "code",
   "execution_count": 23,
   "metadata": {},
   "outputs": [
    {
     "name": "stdout",
     "output_type": "stream",
     "text": [
      "[[ 7 10]\n",
      " [15 22]]\n",
      "\n",
      "[[11 14]\n",
      " [38 47]]\n"
     ]
    }
   ],
   "source": [
    "import numpy as np\n",
    "\n",
    "x1 = np.array([[1, 2], [4, 5]])\n",
    "y1 = np.array([[7, 8], [2, 3]])\n",
    "\n",
    "print(x*y)\n",
    "\n",
    "print()\n",
    "\n",
    "x2 = np.matrix([[1, 2], [4, 5]])\n",
    "y2 = np.matrix([[7, 8], [2, 3]])\n",
    "\n",
    "print(x2*y2)"
   ]
  },
  {
   "cell_type": "markdown",
   "metadata": {},
   "source": [
    "## Cumulative Sum"
   ]
  },
  {
   "cell_type": "markdown",
   "metadata": {},
   "source": [
    "### `cumsum()`"
   ]
  },
  {
   "cell_type": "code",
   "execution_count": 24,
   "metadata": {},
   "outputs": [
    {
     "name": "stdout",
     "output_type": "stream",
     "text": [
      "[[1 2 3]\n",
      " [4 5 6]\n",
      " [7 8 9]]\n",
      "\n",
      "[ 1  3  6 10 15 21 28 36 45]\n"
     ]
    }
   ],
   "source": [
    "import numpy as np\n",
    "\n",
    "a = np.array([(1, 2, 3), (4, 5, 6), (7, 8, 9)])\n",
    "print(a)\n",
    "\n",
    "print()\n",
    "\n",
    "print(a.cumsum())"
   ]
  },
  {
   "cell_type": "code",
   "execution_count": 25,
   "metadata": {},
   "outputs": [
    {
     "name": "stdout",
     "output_type": "stream",
     "text": [
      "[[1 2 3]\n",
      " [4 5 6]\n",
      " [7 8 9]]\n",
      "\n",
      "[[ 1  2  3]\n",
      " [ 5  7  9]\n",
      " [12 15 18]]\n"
     ]
    }
   ],
   "source": [
    "import numpy as np\n",
    "\n",
    "a = np.array([(1, 2, 3), (4, 5, 6), (7, 8, 9)])\n",
    "print(a)\n",
    "\n",
    "print()\n",
    "\n",
    "print(a.cumsum(axis=0)) # sum over rows"
   ]
  },
  {
   "cell_type": "code",
   "execution_count": 26,
   "metadata": {},
   "outputs": [
    {
     "name": "stdout",
     "output_type": "stream",
     "text": [
      "[[1 2 3]\n",
      " [4 5 6]\n",
      " [7 8 9]]\n",
      "\n",
      "[[ 1  3  6]\n",
      " [ 4  9 15]\n",
      " [ 7 15 24]]\n"
     ]
    }
   ],
   "source": [
    "import numpy as np\n",
    "\n",
    "a = np.array([(1, 2, 3), (4, 5, 6), (7, 8, 9)])\n",
    "print(a)\n",
    "\n",
    "print()\n",
    "\n",
    "print(a.cumsum(axis=1)) # sum over columns"
   ]
  },
  {
   "cell_type": "markdown",
   "metadata": {},
   "source": [
    "## Sorting"
   ]
  },
  {
   "cell_type": "markdown",
   "metadata": {},
   "source": [
    "### `sort()`"
   ]
  },
  {
   "cell_type": "code",
   "execution_count": 27,
   "metadata": {},
   "outputs": [
    {
     "name": "stdout",
     "output_type": "stream",
     "text": [
      "[ 5 12 13 34 37]\n",
      "\n",
      "[34 12 37  5 13]\n"
     ]
    }
   ],
   "source": [
    "import numpy as np\n",
    "\n",
    "a = np.array([34, 12, 37, 5, 13])\n",
    "\n",
    "print(np.sort(a)) # does not modify original array\n",
    "\n",
    "print()\n",
    "\n",
    "print(a)"
   ]
  },
  {
   "cell_type": "markdown",
   "metadata": {},
   "source": [
    "### `argsort()`"
   ]
  },
  {
   "cell_type": "code",
   "execution_count": 28,
   "metadata": {},
   "outputs": [
    {
     "name": "stdout",
     "output_type": "stream",
     "text": [
      "[3 1 4 0 2]\n"
     ]
    }
   ],
   "source": [
    "import numpy as np\n",
    "\n",
    "a = np.array([34, 12, 37, 5, 13])\n",
    "\n",
    "print(a.argsort()) # returns indices of sorted elements"
   ]
  },
  {
   "cell_type": "code",
   "execution_count": 29,
   "metadata": {},
   "outputs": [
    {
     "name": "stdout",
     "output_type": "stream",
     "text": [
      "['First' 'Second' 'Third' 'Fourth' 'Fifth']\n",
      "\n",
      "['Fifth' 'Fourth' 'Third' 'Second' 'First']\n"
     ]
    }
   ],
   "source": [
    "import numpy as np\n",
    "\n",
    "persons = np.array(['Fourth', 'Second', 'Fifth', 'First', 'Third'])\n",
    "ages = np.array([34, 12, 37, 5, 13])\n",
    "\n",
    "sort_indices = np.argsort(ages)\n",
    "\n",
    "print(persons[sort_indices])\n",
    "\n",
    "print()\n",
    "\n",
    "reverse_sort_indices = np.argsort(ages)[::-1]\n",
    "\n",
    "print(persons[reverse_sort_indices])"
   ]
  },
  {
   "cell_type": "markdown",
   "metadata": {},
   "source": [
    "## Array Assignment"
   ]
  },
  {
   "cell_type": "markdown",
   "metadata": {},
   "source": [
    "### Copy by Reference"
   ]
  },
  {
   "cell_type": "code",
   "execution_count": 30,
   "metadata": {},
   "outputs": [],
   "source": [
    "import numpy as np\n",
    "\n",
    "a = np.array([[1, 2, 3, 4], [5, 6, 7, 8]])\n",
    "\n",
    "b = a # b is pointing to a"
   ]
  },
  {
   "cell_type": "markdown",
   "metadata": {},
   "source": [
    "### Copy by View (Shallow Copy)\n",
    "\n",
    "Creates a copy by reference, but changing the shape does not change the shape of the original\n",
    "\n",
    "Values will still change"
   ]
  },
  {
   "cell_type": "markdown",
   "metadata": {},
   "source": [
    "### `view()`"
   ]
  },
  {
   "cell_type": "code",
   "execution_count": 31,
   "metadata": {},
   "outputs": [
    {
     "name": "stdout",
     "output_type": "stream",
     "text": [
      "[[9 2 3 4 5 6 7 8]]\n",
      "\n",
      "[[9 2 3 4]\n",
      " [5 6 7 8]]\n"
     ]
    }
   ],
   "source": [
    "import numpy as np\n",
    "\n",
    "a = np.array([[1, 2, 3, 4], [5, 6, 7, 8]])\n",
    "\n",
    "b = a.view()\n",
    "\n",
    "a.shape = 1, -1\n",
    "a[0,0] = 9\n",
    "\n",
    "print(a)\n",
    "\n",
    "print()\n",
    "\n",
    "print(b)"
   ]
  },
  {
   "cell_type": "markdown",
   "metadata": {},
   "source": [
    "### Copy by Value (Deep Copy)"
   ]
  },
  {
   "cell_type": "markdown",
   "metadata": {},
   "source": [
    "### `copy()`"
   ]
  },
  {
   "cell_type": "code",
   "execution_count": 32,
   "metadata": {},
   "outputs": [
    {
     "name": "stdout",
     "output_type": "stream",
     "text": [
      "[[9 2 3 4]\n",
      " [5 6 7 8]]\n",
      "\n",
      "[[1 2 3 4]\n",
      " [5 6 7 8]]\n"
     ]
    }
   ],
   "source": [
    "import numpy as np\n",
    "\n",
    "a = np.array([[1, 2, 3, 4], [5, 6, 7, 8]])\n",
    "\n",
    "b = a.copy()\n",
    "\n",
    "a[0][0] = 9\n",
    "\n",
    "print(a)\n",
    "\n",
    "print()\n",
    "\n",
    "print(b)"
   ]
  },
  {
   "cell_type": "markdown",
   "metadata": {},
   "source": [
    "# Pandas"
   ]
  },
  {
   "cell_type": "markdown",
   "metadata": {},
   "source": [
    "## Series\n",
    "\n",
    "Behaves like a dictionary"
   ]
  },
  {
   "cell_type": "markdown",
   "metadata": {},
   "source": [
    "### Creating a Series"
   ]
  },
  {
   "cell_type": "code",
   "execution_count": 33,
   "metadata": {},
   "outputs": [
    {
     "name": "stdout",
     "output_type": "stream",
     "text": [
      "0    1\n",
      "1    2\n",
      "2    3\n",
      "3    4\n",
      "4    5\n",
      "dtype: int64\n"
     ]
    }
   ],
   "source": [
    "import pandas as pd\n",
    "\n",
    "series = pd.Series([1, 2, 3, 4, 5])\n",
    "\n",
    "print(series)"
   ]
  },
  {
   "cell_type": "code",
   "execution_count": 34,
   "metadata": {},
   "outputs": [
    {
     "name": "stdout",
     "output_type": "stream",
     "text": [
      "a    1\n",
      "b    2\n",
      "c    3\n",
      "d    4\n",
      "c    5\n",
      "dtype: int64\n"
     ]
    }
   ],
   "source": [
    "import pandas as pd\n",
    "\n",
    "series = pd.Series([1, 2, 3, 4, 5], index=['a', 'b', 'c', 'd', 'c'])\n",
    "\n",
    "print(series)"
   ]
  },
  {
   "cell_type": "markdown",
   "metadata": {},
   "source": [
    "### Accessing Elements in a Series"
   ]
  },
  {
   "cell_type": "code",
   "execution_count": 35,
   "metadata": {},
   "outputs": [
    {
     "name": "stdout",
     "output_type": "stream",
     "text": [
      "3\n",
      "3\n"
     ]
    }
   ],
   "source": [
    "import pandas as pd\n",
    "\n",
    "series = pd.Series([1, 2, 3, 4, 5], index=['a', 'b', 'c', 'd', 'c'])\n",
    "\n",
    "print(series[2])\n",
    "print(series.iloc[2])"
   ]
  },
  {
   "cell_type": "code",
   "execution_count": 36,
   "metadata": {},
   "outputs": [
    {
     "name": "stdout",
     "output_type": "stream",
     "text": [
      "4\n",
      "4\n"
     ]
    }
   ],
   "source": [
    "import pandas as pd\n",
    "\n",
    "series = pd.Series([1, 2, 3, 4, 5], index=['a', 'b', 'c', 'd', 'c'])\n",
    "\n",
    "print(series['d'])\n",
    "print(series.loc['d'])"
   ]
  },
  {
   "cell_type": "code",
   "execution_count": 37,
   "metadata": {},
   "outputs": [
    {
     "name": "stdout",
     "output_type": "stream",
     "text": [
      "c    3\n",
      "c    5\n",
      "dtype: int64\n"
     ]
    }
   ],
   "source": [
    "import pandas as pd\n",
    "\n",
    "series = pd.Series([1, 2, 3, 4, 5], index=['a', 'b', 'c', 'd', 'c'])\n",
    "\n",
    "print(series['c'])"
   ]
  },
  {
   "cell_type": "code",
   "execution_count": 38,
   "metadata": {},
   "outputs": [
    {
     "name": "stdout",
     "output_type": "stream",
     "text": [
      "c    3\n",
      "d    4\n",
      "c    5\n",
      "dtype: int64\n"
     ]
    }
   ],
   "source": [
    "import pandas as pd\n",
    "\n",
    "series = pd.Series([1, 2, 3, 4, 5], index=['a', 'b', 'c', 'd', 'c'])\n",
    "\n",
    "print(series[2:])"
   ]
  },
  {
   "cell_type": "markdown",
   "metadata": {},
   "source": [
    "## Datetime Range"
   ]
  },
  {
   "cell_type": "markdown",
   "metadata": {},
   "source": [
    "### `date_range()`"
   ]
  },
  {
   "cell_type": "code",
   "execution_count": 39,
   "metadata": {},
   "outputs": [
    {
     "name": "stdout",
     "output_type": "stream",
     "text": [
      "DatetimeIndex(['2019-05-25', '2019-05-26', '2019-05-27', '2019-05-28',\n",
      "               '2019-05-29', '2019-05-30', '2019-05-31', '2019-06-01',\n",
      "               '2019-06-02', '2019-06-03', '2019-06-04', '2019-06-05'],\n",
      "              dtype='datetime64[ns]', freq='D')\n"
     ]
    }
   ],
   "source": [
    "import pandas as pd\n",
    "\n",
    "dates = pd.date_range('20190525', periods=12)\n",
    "\n",
    "print(dates) # D for 'daily'"
   ]
  },
  {
   "cell_type": "code",
   "execution_count": 40,
   "metadata": {},
   "outputs": [
    {
     "name": "stdout",
     "output_type": "stream",
     "text": [
      "2019-05-25     1\n",
      "2019-05-26     2\n",
      "2019-05-27     3\n",
      "2019-05-28     4\n",
      "2019-05-29     5\n",
      "2019-05-30     6\n",
      "2019-05-31     7\n",
      "2019-06-01     8\n",
      "2019-06-02     9\n",
      "2019-06-03    10\n",
      "2019-06-04    11\n",
      "2019-06-05    12\n",
      "Freq: D, dtype: int64\n"
     ]
    }
   ],
   "source": [
    "# assign range of dates as index of Series\n",
    "\n",
    "import pandas as pd\n",
    "\n",
    "dates = pd.date_range('20190525', periods=12)\n",
    "\n",
    "series = pd.Series([1, 2, 3, 4, 5, 6, 7, 8, 9, 10, 11, 12])\n",
    "series.index = dates\n",
    "\n",
    "print(series)"
   ]
  },
  {
   "cell_type": "code",
   "execution_count": 41,
   "metadata": {},
   "outputs": [
    {
     "name": "stdout",
     "output_type": "stream",
     "text": [
      "DatetimeIndex(['2019-05-31', '2019-06-30', '2019-07-31', '2019-08-31',\n",
      "               '2019-09-30', '2019-10-31', '2019-11-30', '2019-12-31',\n",
      "               '2020-01-31', '2020-02-29', '2020-03-31', '2020-04-30'],\n",
      "              dtype='datetime64[ns]', freq='M')\n"
     ]
    }
   ],
   "source": [
    "import pandas as pd\n",
    "\n",
    "dates = pd.date_range('2019-05-01', periods=12, freq='M') # 'M' for 'monthly'\n",
    "\n",
    "print(dates)"
   ]
  },
  {
   "cell_type": "code",
   "execution_count": 42,
   "metadata": {},
   "outputs": [
    {
     "name": "stdout",
     "output_type": "stream",
     "text": [
      "DatetimeIndex(['2019-05-01', '2019-06-01', '2019-07-01', '2019-08-01',\n",
      "               '2019-09-01', '2019-10-01', '2019-11-01', '2019-12-01',\n",
      "               '2020-01-01', '2020-02-01', '2020-03-01', '2020-04-01'],\n",
      "              dtype='datetime64[ns]', freq='MS')\n"
     ]
    }
   ],
   "source": [
    "import pandas as pd\n",
    "\n",
    "dates = pd.date_range('2019-05-01', periods=12, freq='MS') # 'M' for 'monthly', 'S' for 'start'\n",
    "\n",
    "print(dates)"
   ]
  },
  {
   "cell_type": "code",
   "execution_count": 43,
   "metadata": {},
   "outputs": [
    {
     "name": "stdout",
     "output_type": "stream",
     "text": [
      "DatetimeIndex(['2019-05-17 09:00:00', '2019-05-17 10:00:00',\n",
      "               '2019-05-17 11:00:00', '2019-05-17 12:00:00',\n",
      "               '2019-05-17 13:00:00', '2019-05-17 14:00:00',\n",
      "               '2019-05-17 15:00:00', '2019-05-17 16:00:00'],\n",
      "              dtype='datetime64[ns]', freq='H')\n"
     ]
    }
   ],
   "source": [
    "import pandas as pd\n",
    "\n",
    "dates = pd.date_range('2019/05/17 09:00:00', periods=8, freq='H') # 'H' for 'hourly'\n",
    "\n",
    "print(dates)"
   ]
  },
  {
   "cell_type": "markdown",
   "metadata": {},
   "source": [
    "## DataFrame"
   ]
  },
  {
   "cell_type": "code",
   "execution_count": 44,
   "metadata": {},
   "outputs": [
    {
     "name": "stdout",
     "output_type": "stream",
     "text": [
      "          A         B         C         D\n",
      "0 -0.628577 -0.047730 -2.120651 -0.345224\n",
      "1  0.818082 -0.218897 -0.336446  0.190480\n",
      "2  0.769533  0.668049  1.542633  0.424238\n",
      "3 -1.580455  0.876036 -0.421257  0.669471\n",
      "4  1.291061  2.156422  0.252665  0.056647\n",
      "5 -0.132923 -0.531289 -0.383515  1.286995\n",
      "6 -0.570255 -0.040065  0.910904 -0.346261\n",
      "7 -0.928025  2.422382  0.393385 -0.703196\n",
      "8  0.681338  0.522273 -0.682317  0.675320\n",
      "9 -0.518571 -0.194937 -2.149291  1.471668\n"
     ]
    }
   ],
   "source": [
    "import pandas as pd\n",
    "import numpy as np\n",
    "\n",
    "df = pd.DataFrame(np.random.randn(10,4), columns=list('ABCD'))\n",
    "\n",
    "print(df)"
   ]
  },
  {
   "cell_type": "markdown",
   "metadata": {},
   "source": [
    "### `read_csv()`"
   ]
  },
  {
   "cell_type": "code",
   "execution_count": 45,
   "metadata": {},
   "outputs": [],
   "source": [
    "import pandas as pd\n",
    "\n",
    "# df = pd.read_csv('data.csv')"
   ]
  },
  {
   "cell_type": "markdown",
   "metadata": {},
   "source": [
    "### Index and Values"
   ]
  },
  {
   "cell_type": "code",
   "execution_count": 46,
   "metadata": {},
   "outputs": [
    {
     "name": "stdout",
     "output_type": "stream",
     "text": [
      "                   A         B         C         D\n",
      "2019-05-25 -0.225464 -0.527627 -1.816776  0.152401\n",
      "2019-05-26  0.426616  0.266348  1.411340 -0.776213\n",
      "2019-05-27 -0.474726 -0.160647  0.657518  2.807340\n",
      "2019-05-28 -0.192639 -0.223570  0.921626  0.012514\n",
      "2019-05-29 -0.368741  1.214521  0.733380  0.294213\n",
      "2019-05-30 -0.065906  2.269507  0.242459  0.243003\n",
      "2019-05-31 -0.309328 -0.046671  0.315767 -1.222598\n",
      "2019-06-01 -0.580200 -0.173948 -1.193743 -0.629458\n",
      "2019-06-02  0.659919 -1.501245  0.628645 -1.330315\n",
      "2019-06-03  0.515195 -0.155877 -0.564847 -0.502733\n",
      "\n",
      "DatetimeIndex(['2019-05-25', '2019-05-26', '2019-05-27', '2019-05-28',\n",
      "               '2019-05-29', '2019-05-30', '2019-05-31', '2019-06-01',\n",
      "               '2019-06-02', '2019-06-03'],\n",
      "              dtype='datetime64[ns]', freq='D')\n",
      "\n",
      "[[-0.22546377 -0.52762726 -1.81677581  0.15240091]\n",
      " [ 0.42661642  0.26634781  1.41133987 -0.77621309]\n",
      " [-0.4747256  -0.1606474   0.65751788  2.80733998]\n",
      " [-0.19263868 -0.22357034  0.92162556  0.01251359]\n",
      " [-0.36874117  1.21452088  0.73337973  0.29421347]\n",
      " [-0.06590592  2.26950743  0.2424592   0.24300318]\n",
      " [-0.30932774 -0.04667117  0.31576745 -1.22259774]\n",
      " [-0.5801998  -0.17394799 -1.19374274 -0.6294582 ]\n",
      " [ 0.65991886 -1.50124502  0.62864505 -1.33031516]\n",
      " [ 0.51519484 -0.15587743 -0.56484658 -0.50273288]]\n"
     ]
    }
   ],
   "source": [
    "import pandas as pd\n",
    "import numpy as np\n",
    "\n",
    "df = pd.DataFrame(np.random.randn(10,4), columns=list('ABCD'))\n",
    "days = pd.date_range('20190525', periods=10)\n",
    "df.index = days\n",
    "\n",
    "print(df)\n",
    "print()\n",
    "print(df.index)\n",
    "print()\n",
    "print(df.values)"
   ]
  },
  {
   "cell_type": "markdown",
   "metadata": {},
   "source": [
    "### Descriptive Statistics"
   ]
  },
  {
   "cell_type": "markdown",
   "metadata": {},
   "source": [
    "### `describe()`"
   ]
  },
  {
   "cell_type": "code",
   "execution_count": 47,
   "metadata": {},
   "outputs": [
    {
     "name": "stdout",
     "output_type": "stream",
     "text": [
      "               A          B          C          D\n",
      "count  10.000000  10.000000  10.000000  10.000000\n",
      "mean   -0.061527   0.096079   0.133537  -0.095185\n",
      "std     0.438558   1.014835   1.012783   1.177356\n",
      "min    -0.580200  -1.501245  -1.816776  -1.330315\n",
      "25%    -0.353888  -0.211165  -0.363020  -0.739524\n",
      "50%    -0.209051  -0.158262   0.472206  -0.245110\n",
      "75%     0.303486   0.188093   0.714414   0.220353\n",
      "max     0.659919   2.269507   1.411340   2.807340\n"
     ]
    }
   ],
   "source": [
    "print(df.describe())"
   ]
  },
  {
   "cell_type": "markdown",
   "metadata": {},
   "source": [
    "### `mean()`"
   ]
  },
  {
   "cell_type": "code",
   "execution_count": 48,
   "metadata": {},
   "outputs": [
    {
     "name": "stdout",
     "output_type": "stream",
     "text": [
      "A   -0.061527\n",
      "B    0.096079\n",
      "C    0.133537\n",
      "D   -0.095185\n",
      "dtype: float64\n",
      "\n",
      "2019-05-25   -0.604366\n",
      "2019-05-26    0.332023\n",
      "2019-05-27    0.707371\n",
      "2019-05-28    0.129483\n",
      "2019-05-29    0.468343\n",
      "2019-05-30    0.672266\n",
      "2019-05-31   -0.315707\n",
      "2019-06-01   -0.644337\n",
      "2019-06-02   -0.385749\n",
      "2019-06-03   -0.177066\n",
      "Freq: D, dtype: float64\n"
     ]
    }
   ],
   "source": [
    "print(df.mean(0)) # mean for each column\n",
    "\n",
    "print()\n",
    "\n",
    "print(df.mean(1)) # mean for each row"
   ]
  },
  {
   "cell_type": "markdown",
   "metadata": {},
   "source": [
    "### Extracting from DataFrames"
   ]
  },
  {
   "cell_type": "markdown",
   "metadata": {},
   "source": [
    "### `head()`"
   ]
  },
  {
   "cell_type": "code",
   "execution_count": 49,
   "metadata": {},
   "outputs": [
    {
     "name": "stdout",
     "output_type": "stream",
     "text": [
      "                   A         B         C         D\n",
      "2019-05-25 -0.225464 -0.527627 -1.816776  0.152401\n",
      "2019-05-26  0.426616  0.266348  1.411340 -0.776213\n",
      "2019-05-27 -0.474726 -0.160647  0.657518  2.807340\n",
      "2019-05-28 -0.192639 -0.223570  0.921626  0.012514\n",
      "2019-05-29 -0.368741  1.214521  0.733380  0.294213\n"
     ]
    }
   ],
   "source": [
    "print(df.head()) # first 5 rows"
   ]
  },
  {
   "cell_type": "code",
   "execution_count": 50,
   "metadata": {},
   "outputs": [
    {
     "name": "stdout",
     "output_type": "stream",
     "text": [
      "                   A         B         C         D\n",
      "2019-05-25 -0.225464 -0.527627 -1.816776  0.152401\n",
      "2019-05-26  0.426616  0.266348  1.411340 -0.776213\n",
      "2019-05-27 -0.474726 -0.160647  0.657518  2.807340\n",
      "2019-05-28 -0.192639 -0.223570  0.921626  0.012514\n",
      "2019-05-29 -0.368741  1.214521  0.733380  0.294213\n",
      "2019-05-30 -0.065906  2.269507  0.242459  0.243003\n",
      "2019-05-31 -0.309328 -0.046671  0.315767 -1.222598\n",
      "2019-06-01 -0.580200 -0.173948 -1.193743 -0.629458\n"
     ]
    }
   ],
   "source": [
    "print(df.head(8)) # first 8 rows"
   ]
  },
  {
   "cell_type": "markdown",
   "metadata": {},
   "source": [
    "### `tail()`"
   ]
  },
  {
   "cell_type": "code",
   "execution_count": 51,
   "metadata": {},
   "outputs": [
    {
     "name": "stdout",
     "output_type": "stream",
     "text": [
      "                   A         B         C         D\n",
      "2019-05-30 -0.065906  2.269507  0.242459  0.243003\n",
      "2019-05-31 -0.309328 -0.046671  0.315767 -1.222598\n",
      "2019-06-01 -0.580200 -0.173948 -1.193743 -0.629458\n",
      "2019-06-02  0.659919 -1.501245  0.628645 -1.330315\n",
      "2019-06-03  0.515195 -0.155877 -0.564847 -0.502733\n"
     ]
    }
   ],
   "source": [
    "print(df.tail()) # last 5 rows"
   ]
  },
  {
   "cell_type": "code",
   "execution_count": 52,
   "metadata": {},
   "outputs": [
    {
     "name": "stdout",
     "output_type": "stream",
     "text": [
      "                   A         B         C         D\n",
      "2019-05-27 -0.474726 -0.160647  0.657518  2.807340\n",
      "2019-05-28 -0.192639 -0.223570  0.921626  0.012514\n",
      "2019-05-29 -0.368741  1.214521  0.733380  0.294213\n",
      "2019-05-30 -0.065906  2.269507  0.242459  0.243003\n",
      "2019-05-31 -0.309328 -0.046671  0.315767 -1.222598\n",
      "2019-06-01 -0.580200 -0.173948 -1.193743 -0.629458\n",
      "2019-06-02  0.659919 -1.501245  0.628645 -1.330315\n",
      "2019-06-03  0.515195 -0.155877 -0.564847 -0.502733\n"
     ]
    }
   ],
   "source": [
    "print(df.tail(8)) # last 8 rows"
   ]
  },
  {
   "cell_type": "markdown",
   "metadata": {},
   "source": [
    "#### Selecting Specific Column"
   ]
  },
  {
   "cell_type": "code",
   "execution_count": 53,
   "metadata": {},
   "outputs": [
    {
     "name": "stdout",
     "output_type": "stream",
     "text": [
      "2019-05-25   -0.225464\n",
      "2019-05-26    0.426616\n",
      "2019-05-27   -0.474726\n",
      "2019-05-28   -0.192639\n",
      "2019-05-29   -0.368741\n",
      "2019-05-30   -0.065906\n",
      "2019-05-31   -0.309328\n",
      "2019-06-01   -0.580200\n",
      "2019-06-02    0.659919\n",
      "2019-06-03    0.515195\n",
      "Freq: D, Name: A, dtype: float64\n"
     ]
    }
   ],
   "source": [
    "print(df['A']) # same as df.A"
   ]
  },
  {
   "cell_type": "code",
   "execution_count": 54,
   "metadata": {},
   "outputs": [
    {
     "name": "stdout",
     "output_type": "stream",
     "text": [
      "                   A         B\n",
      "2019-05-25 -0.225464 -0.527627\n",
      "2019-05-26  0.426616  0.266348\n",
      "2019-05-27 -0.474726 -0.160647\n",
      "2019-05-28 -0.192639 -0.223570\n",
      "2019-05-29 -0.368741  1.214521\n",
      "2019-05-30 -0.065906  2.269507\n",
      "2019-05-31 -0.309328 -0.046671\n",
      "2019-06-01 -0.580200 -0.173948\n",
      "2019-06-02  0.659919 -1.501245\n",
      "2019-06-03  0.515195 -0.155877\n"
     ]
    }
   ],
   "source": [
    "print(df[['A', 'B']])"
   ]
  },
  {
   "cell_type": "markdown",
   "metadata": {},
   "source": [
    "#### Selecting Specific Row"
   ]
  },
  {
   "cell_type": "code",
   "execution_count": 55,
   "metadata": {},
   "outputs": [
    {
     "name": "stdout",
     "output_type": "stream",
     "text": [
      "                   A         B         C         D\n",
      "2019-05-27 -0.474726 -0.160647  0.657518  2.807340\n",
      "2019-05-28 -0.192639 -0.223570  0.921626  0.012514\n"
     ]
    }
   ],
   "source": [
    "print(df[2:4]) # same as print(df.iloc[2:4])"
   ]
  },
  {
   "cell_type": "code",
   "execution_count": 56,
   "metadata": {},
   "outputs": [
    {
     "name": "stdout",
     "output_type": "stream",
     "text": [
      "                   A         B         C         D\n",
      "2019-05-27 -0.474726 -0.160647  0.657518  2.807340\n",
      "2019-05-29 -0.368741  1.214521  0.733380  0.294213\n"
     ]
    }
   ],
   "source": [
    "print(df.iloc[[2,4]])"
   ]
  },
  {
   "cell_type": "code",
   "execution_count": 57,
   "metadata": {},
   "outputs": [
    {
     "name": "stdout",
     "output_type": "stream",
     "text": [
      "A   -0.474726\n",
      "B   -0.160647\n",
      "C    0.657518\n",
      "D    2.807340\n",
      "Name: 2019-05-27 00:00:00, dtype: float64\n"
     ]
    }
   ],
   "source": [
    "print(df.iloc[2])"
   ]
  },
  {
   "cell_type": "markdown",
   "metadata": {},
   "source": [
    "#### Selecting Row and Column"
   ]
  },
  {
   "cell_type": "code",
   "execution_count": 58,
   "metadata": {},
   "outputs": [
    {
     "name": "stdout",
     "output_type": "stream",
     "text": [
      "                   B         C         D\n",
      "2019-05-27 -0.160647  0.657518  2.807340\n",
      "2019-05-28 -0.223570  0.921626  0.012514\n"
     ]
    }
   ],
   "source": [
    "print(df.iloc[2:4, 1:4])"
   ]
  },
  {
   "cell_type": "code",
   "execution_count": 59,
   "metadata": {},
   "outputs": [
    {
     "name": "stdout",
     "output_type": "stream",
     "text": [
      "                   B         D\n",
      "2019-05-27 -0.160647  2.807340\n",
      "2019-05-29  1.214521  0.294213\n"
     ]
    }
   ],
   "source": [
    "print(df.iloc[[2, 4], [1, 3]])"
   ]
  },
  {
   "cell_type": "markdown",
   "metadata": {},
   "source": [
    "#### Slicing Based on Labels"
   ]
  },
  {
   "cell_type": "code",
   "execution_count": 60,
   "metadata": {},
   "outputs": [
    {
     "name": "stdout",
     "output_type": "stream",
     "text": [
      "                   A         B         C         D\n",
      "2019-06-01 -0.580200 -0.173948 -1.193743 -0.629458\n",
      "2019-06-02  0.659919 -1.501245  0.628645 -1.330315\n",
      "2019-06-03  0.515195 -0.155877 -0.564847 -0.502733\n"
     ]
    }
   ],
   "source": [
    "print(df['20190601':'20190603'])"
   ]
  },
  {
   "cell_type": "code",
   "execution_count": 61,
   "metadata": {},
   "outputs": [
    {
     "name": "stdout",
     "output_type": "stream",
     "text": [
      "                   A         B         C\n",
      "2019-06-01 -0.580200 -0.173948 -1.193743\n",
      "2019-06-02  0.659919 -1.501245  0.628645\n",
      "2019-06-03  0.515195 -0.155877 -0.564847\n"
     ]
    }
   ],
   "source": [
    "print(df.loc['20190601':'20190603', 'A':'C'])"
   ]
  },
  {
   "cell_type": "code",
   "execution_count": 62,
   "metadata": {},
   "outputs": [
    {
     "name": "stdout",
     "output_type": "stream",
     "text": [
      "                   A         C\n",
      "2019-06-01 -0.580200 -1.193743\n",
      "2019-06-02  0.659919  0.628645\n",
      "2019-06-03  0.515195 -0.564847\n"
     ]
    }
   ],
   "source": [
    "print(df.loc['20190601':'20190603', ['A', 'C']])"
   ]
  },
  {
   "cell_type": "code",
   "execution_count": 63,
   "metadata": {},
   "outputs": [
    {
     "name": "stdout",
     "output_type": "stream",
     "text": [
      "A   -0.580200\n",
      "B   -0.173948\n",
      "C   -1.193743\n",
      "D   -0.629458\n",
      "Name: 2019-06-01 00:00:00, dtype: float64\n"
     ]
    }
   ],
   "source": [
    "print(df.loc['20190601'])"
   ]
  },
  {
   "cell_type": "code",
   "execution_count": 64,
   "metadata": {},
   "outputs": [
    {
     "name": "stdout",
     "output_type": "stream",
     "text": [
      "                   A         B         C         D\n",
      "2019-06-01 -0.580200 -0.173948 -1.193743 -0.629458\n",
      "2019-06-03  0.515195 -0.155877 -0.564847 -0.502733\n"
     ]
    }
   ],
   "source": [
    "# extract specific rows with datetime as index\n",
    "\n",
    "from datetime import datetime\n",
    "\n",
    "date1 = datetime(2019, 6, 1, 0, 0, 0)\n",
    "date2 = datetime(2019, 6, 3, 0, 0, 0)\n",
    "\n",
    "print(df.loc[[date1, date2]])"
   ]
  },
  {
   "cell_type": "code",
   "execution_count": 65,
   "metadata": {},
   "outputs": [
    {
     "name": "stdout",
     "output_type": "stream",
     "text": [
      "A   -0.580200\n",
      "C   -1.193743\n",
      "Name: 2019-06-01 00:00:00, dtype: float64\n"
     ]
    }
   ],
   "source": [
    "print(df.loc[date1, ['A', 'C']])"
   ]
  }
 ],
 "metadata": {
  "kernelspec": {
   "display_name": "Python 3",
   "language": "python",
   "name": "python3"
  },
  "language_info": {
   "codemirror_mode": {
    "name": "ipython",
    "version": 3
   },
   "file_extension": ".py",
   "mimetype": "text/x-python",
   "name": "python",
   "nbconvert_exporter": "python",
   "pygments_lexer": "ipython3",
   "version": "3.7.3"
  }
 },
 "nbformat": 4,
 "nbformat_minor": 2
}
