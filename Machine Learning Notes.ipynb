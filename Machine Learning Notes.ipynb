{
 "cells": [
  {
   "cell_type": "markdown",
   "metadata": {},
   "source": [
    "# NumPy"
   ]
  },
  {
   "cell_type": "markdown",
   "metadata": {},
   "source": [
    "## Creating Arrays"
   ]
  },
  {
   "cell_type": "markdown",
   "metadata": {},
   "source": [
    "### `arange()`"
   ]
  },
  {
   "cell_type": "code",
   "execution_count": 1,
   "metadata": {},
   "outputs": [
    {
     "name": "stdout",
     "output_type": "stream",
     "text": [
      "[0 1 2 3 4 5 6 7 8 9]\n",
      "\n",
      "[0 2 4 6 8]\n"
     ]
    }
   ],
   "source": [
    "import numpy as np\n",
    "\n",
    "a = np.arange(10)\n",
    "print(a)\n",
    "\n",
    "print()\n",
    "\n",
    "b = np.arange(0,10,2)\n",
    "print(b)"
   ]
  },
  {
   "cell_type": "markdown",
   "metadata": {},
   "source": [
    "### `zeros()`"
   ]
  },
  {
   "cell_type": "code",
   "execution_count": 2,
   "metadata": {},
   "outputs": [
    {
     "name": "stdout",
     "output_type": "stream",
     "text": [
      "[0. 0. 0. 0. 0.]\n",
      "\n",
      "[[0. 0. 0.]\n",
      " [0. 0. 0.]]\n"
     ]
    }
   ],
   "source": [
    "import numpy as np\n",
    "\n",
    "a = np.zeros(5)\n",
    "print(a)\n",
    "\n",
    "print()\n",
    "\n",
    "# 1: tuple (rows, cols)\n",
    "# return: list of lists of zeros\n",
    "b = np.zeros((2,3))\n",
    "print(b)"
   ]
  },
  {
   "cell_type": "markdown",
   "metadata": {},
   "source": [
    "### `full()`"
   ]
  },
  {
   "cell_type": "code",
   "execution_count": 3,
   "metadata": {},
   "outputs": [
    {
     "name": "stdout",
     "output_type": "stream",
     "text": [
      "[[8 8 8]\n",
      " [8 8 8]]\n"
     ]
    }
   ],
   "source": [
    "import numpy as np\n",
    "\n",
    "# 1: tuple (rows, cols)\n",
    "# 2: int - number with which to fill matrix\n",
    "# return: list of lists filled with a number\n",
    "a = np.full((2,3), 8)\n",
    "print(a)"
   ]
  },
  {
   "cell_type": "markdown",
   "metadata": {},
   "source": [
    "### `eye()`"
   ]
  },
  {
   "cell_type": "code",
   "execution_count": 4,
   "metadata": {},
   "outputs": [
    {
     "name": "stdout",
     "output_type": "stream",
     "text": [
      "[[1. 0. 0. 0.]\n",
      " [0. 1. 0. 0.]\n",
      " [0. 0. 1. 0.]\n",
      " [0. 0. 0. 1.]]\n"
     ]
    }
   ],
   "source": [
    "import numpy as np\n",
    "\n",
    "a = np.eye(4)\n",
    "print(a)"
   ]
  },
  {
   "cell_type": "markdown",
   "metadata": {},
   "source": [
    "### `random()`"
   ]
  },
  {
   "cell_type": "code",
   "execution_count": 5,
   "metadata": {},
   "outputs": [
    {
     "name": "stdout",
     "output_type": "stream",
     "text": [
      "[[0.72908206 0.47612379 0.09910415 0.85949188]\n",
      " [0.78493114 0.82276172 0.87089575 0.15377023]]\n"
     ]
    }
   ],
   "source": [
    "import numpy as np\n",
    "\n",
    "# [0.0, 1.0)\n",
    "\n",
    "# 1: tuple (rows, cols)\n",
    "# return: list of lists - random numbers\n",
    "a = np.random.random((2,4))\n",
    "print(a)"
   ]
  },
  {
   "cell_type": "markdown",
   "metadata": {},
   "source": [
    "### `array()`"
   ]
  },
  {
   "cell_type": "code",
   "execution_count": 6,
   "metadata": {},
   "outputs": [
    {
     "name": "stdout",
     "output_type": "stream",
     "text": [
      "[1 2 3 4 5]\n"
     ]
    }
   ],
   "source": [
    "import numpy as np\n",
    "\n",
    "listy = [1, 2, 3, 4, 5]\n",
    "\n",
    "a = np.array(listy)\n",
    "print(a)"
   ]
  },
  {
   "cell_type": "code",
   "execution_count": 7,
   "metadata": {},
   "outputs": [
    {
     "name": "stdout",
     "output_type": "stream",
     "text": [
      "[[1 2 3 4 5]\n",
      " [6 7 8 9 0]]\n"
     ]
    }
   ],
   "source": [
    "import numpy as np\n",
    "\n",
    "list1 = [1, 2, 3, 4, 5]\n",
    "list2 = [6, 7, 8, 9, 0]\n",
    "\n",
    "# 1: list [first list, second list, ...]\n",
    "# return: list of lists\n",
    "a = np.array([list1, list2])\n",
    "print(a)"
   ]
  },
  {
   "cell_type": "markdown",
   "metadata": {},
   "source": [
    "## Array Indexing"
   ]
  },
  {
   "cell_type": "code",
   "execution_count": 8,
   "metadata": {},
   "outputs": [
    {
     "name": "stdout",
     "output_type": "stream",
     "text": [
      "1\n"
     ]
    }
   ],
   "source": [
    "import numpy as np\n",
    "\n",
    "a = [1, 2, 3, 4, 5]\n",
    "\n",
    "print(a[0])"
   ]
  },
  {
   "cell_type": "code",
   "execution_count": 9,
   "metadata": {},
   "outputs": [
    {
     "name": "stdout",
     "output_type": "stream",
     "text": [
      "1\n"
     ]
    }
   ],
   "source": [
    "import numpy as np\n",
    "\n",
    "a = [1, 2, 3, 4, 5]\n",
    "b = [6, 7, 8, 9, 0]\n",
    "c = np.array([a,b])\n",
    "\n",
    "print(c[0,0])"
   ]
  },
  {
   "cell_type": "code",
   "execution_count": 10,
   "metadata": {},
   "outputs": [
    {
     "name": "stdout",
     "output_type": "stream",
     "text": [
      "[3 5]\n"
     ]
    }
   ],
   "source": [
    "import numpy as np\n",
    "\n",
    "a = [1, 2, 3, 4, 5]\n",
    "c = np.array(a)\n",
    "\n",
    "print(c[[2,4]])"
   ]
  },
  {
   "cell_type": "markdown",
   "metadata": {},
   "source": [
    "### Boolean Indexing"
   ]
  },
  {
   "cell_type": "code",
   "execution_count": 11,
   "metadata": {},
   "outputs": [
    {
     "name": "stdout",
     "output_type": "stream",
     "text": [
      "[False False  True  True  True]\n",
      "\n",
      "[3 4 5]\n"
     ]
    }
   ],
   "source": [
    "import numpy as np\n",
    "\n",
    "a = [1, 2, 3, 4, 5]\n",
    "c = np.array(a)\n",
    "\n",
    "print(c > 2)\n",
    "\n",
    "print()\n",
    "\n",
    "print(c[c > 2])"
   ]
  },
  {
   "cell_type": "markdown",
   "metadata": {},
   "source": [
    "### Slicing Arrays"
   ]
  },
  {
   "cell_type": "code",
   "execution_count": 12,
   "metadata": {},
   "outputs": [
    {
     "name": "stdout",
     "output_type": "stream",
     "text": [
      "[ 1  3  5  7  9 11 13 15 17 19]\n"
     ]
    }
   ],
   "source": [
    "import numpy as np\n",
    "\n",
    "a = np.arange(20)\n",
    "odd_nums = a[a % 2 == 1]\n",
    "\n",
    "print(odd_nums)"
   ]
  },
  {
   "cell_type": "code",
   "execution_count": 13,
   "metadata": {},
   "outputs": [
    {
     "name": "stdout",
     "output_type": "stream",
     "text": [
      "[[4 5 6]\n",
      " [9 8 7]]\n",
      "\n",
      "[[7 8]\n",
      " [6 5]]\n"
     ]
    }
   ],
   "source": [
    "import numpy as np\n",
    "\n",
    "a = np.array([[1, 2, 3, 4, 5],\n",
    "              [4, 5, 6, 7, 8],\n",
    "              [9, 8, 7, 6, 5]])\n",
    "b = a[1:3, :3]\n",
    "\n",
    "print(b)\n",
    "\n",
    "print()\n",
    "\n",
    "c = a[-2:, -2:]\n",
    "print(c)"
   ]
  },
  {
   "cell_type": "markdown",
   "metadata": {},
   "source": [
    "Slicing returns a reference (not a copy) to the original array"
   ]
  },
  {
   "cell_type": "code",
   "execution_count": 14,
   "metadata": {},
   "outputs": [
    {
     "name": "stdout",
     "output_type": "stream",
     "text": [
      "[[6 7 8]\n",
      " [7 6 5]]\n",
      "\n",
      "[[ 1  2  3  4  5]\n",
      " [ 4  5  6  7 88]\n",
      " [ 9  8  7  6  5]]\n"
     ]
    }
   ],
   "source": [
    "import numpy as np\n",
    "\n",
    "a = np.array([[1, 2, 3, 4, 5],\n",
    "              [4, 5, 6, 7, 8],\n",
    "              [9, 8, 7, 6, 5]])\n",
    "b = a[1:, 2:]\n",
    "\n",
    "print(b)\n",
    "\n",
    "print()\n",
    "\n",
    "b[0,2] = 88\n",
    "\n",
    "print(a)"
   ]
  },
  {
   "cell_type": "markdown",
   "metadata": {},
   "source": [
    "Result of slicing is dependent on how it is sliced"
   ]
  },
  {
   "cell_type": "code",
   "execution_count": 15,
   "metadata": {},
   "outputs": [
    {
     "name": "stdout",
     "output_type": "stream",
     "text": [
      "[[9 8 7 6 5]]\n",
      "(1, 5)\n",
      "\n",
      "[9 8 7 6 5]\n",
      "(5,)\n"
     ]
    }
   ],
   "source": [
    "import numpy as np\n",
    "\n",
    "a = np.array([[1, 2, 3, 4, 5],\n",
    "              [4, 5, 6, 7, 8],\n",
    "              [9, 8, 7, 6, 5]])\n",
    "b = a[2:, :]\n",
    "\n",
    "print(b)\n",
    "print(b.shape)\n",
    "\n",
    "print()\n",
    "\n",
    "c = a[2, :]\n",
    "\n",
    "print(c)\n",
    "print(c.shape)"
   ]
  },
  {
   "cell_type": "markdown",
   "metadata": {},
   "source": [
    "## Reshaping Arrays"
   ]
  },
  {
   "cell_type": "markdown",
   "metadata": {},
   "source": [
    "### `reshape()`"
   ]
  },
  {
   "cell_type": "code",
   "execution_count": 16,
   "metadata": {},
   "outputs": [
    {
     "name": "stdout",
     "output_type": "stream",
     "text": [
      "[9 8 7 6 5]\n",
      "\n",
      "[[9 8 7 6 5]]\n"
     ]
    }
   ],
   "source": [
    "# convert rank 1 array to rank 2\n",
    "\n",
    "import numpy as np\n",
    "\n",
    "a = np.array([[1, 2, 3, 4, 5],\n",
    "              [4, 5, 6, 7, 8],\n",
    "              [9, 8, 7, 6, 5]])\n",
    "b = a[2, :]\n",
    "\n",
    "print(b)\n",
    "\n",
    "print()\n",
    "\n",
    "# 1: int - rows\n",
    "# 2: int - cols (-1 means automatically determine)\n",
    "b = b.reshape(1, -1) \n",
    "print(b)\n",
    "# output is same as reshape(1,5)"
   ]
  },
  {
   "cell_type": "code",
   "execution_count": 17,
   "metadata": {},
   "outputs": [
    {
     "name": "stdout",
     "output_type": "stream",
     "text": [
      "[[9 8 7 6 5]]\n",
      "\n",
      "[9 8 7 6 5]\n"
     ]
    }
   ],
   "source": [
    "# convert rank 2 array to rank 1\n",
    "\n",
    "import numpy as np\n",
    "\n",
    "a = np.array([[1, 2, 3, 4, 5],\n",
    "              [4, 5, 6, 7, 8],\n",
    "              [9, 8, 7, 6, 5]])\n",
    "b = a[2:, :]\n",
    "\n",
    "print(b)\n",
    "\n",
    "print()\n",
    "\n",
    "b = b.reshape(-1,)\n",
    "print(b)"
   ]
  },
  {
   "cell_type": "markdown",
   "metadata": {},
   "source": [
    "## Array Math"
   ]
  },
  {
   "cell_type": "markdown",
   "metadata": {},
   "source": [
    "### Addition / Subtraction / Multiplication / Division"
   ]
  },
  {
   "cell_type": "code",
   "execution_count": 18,
   "metadata": {},
   "outputs": [
    {
     "name": "stdout",
     "output_type": "stream",
     "text": [
      "[[ 8 10 12]\n",
      " [ 6  8 10]]\n",
      "\n",
      "[[-6 -6 -6]\n",
      " [ 2  2  2]]\n",
      "\n",
      "[[ 7 16 27]\n",
      " [ 8 15 24]]\n",
      "\n",
      "[[0.14285714 0.25       0.33333333]\n",
      " [2.         1.66666667 1.5       ]]\n"
     ]
    }
   ],
   "source": [
    "import numpy as np\n",
    "\n",
    "x = np.array([[1, 2, 3], [4, 5, 6]])\n",
    "y = np.array([[7, 8, 9], [2 ,3, 4]])\n",
    "\n",
    "print(x+y) # same as np.add(x,y)\n",
    "print()\n",
    "print(x-y) # same as np.subtract(x,y)\n",
    "print()\n",
    "print(x*y) # same as np.multiply(x,y)\n",
    "print()\n",
    "print(x/y) # same as np.divide(x,y)"
   ]
  },
  {
   "cell_type": "markdown",
   "metadata": {},
   "source": [
    "### Dot Product"
   ]
  },
  {
   "cell_type": "markdown",
   "metadata": {},
   "source": [
    "### `dot()`"
   ]
  },
  {
   "cell_type": "code",
   "execution_count": 19,
   "metadata": {},
   "outputs": [
    {
     "name": "stdout",
     "output_type": "stream",
     "text": [
      "14\n"
     ]
    }
   ],
   "source": [
    "import numpy as np\n",
    "\n",
    "x = np.array([2, 3])\n",
    "y = np.array([4, 2])\n",
    "\n",
    "print(np.dot(x,y)) # 2*4 + 3*2"
   ]
  },
  {
   "cell_type": "markdown",
   "metadata": {},
   "source": [
    "A dot product of two rank 2 arrays is the same as matrix multiplication"
   ]
  },
  {
   "cell_type": "code",
   "execution_count": 20,
   "metadata": {},
   "outputs": [
    {
     "name": "stdout",
     "output_type": "stream",
     "text": [
      "[[ 58  64]\n",
      " [139 154]]\n"
     ]
    }
   ],
   "source": [
    "import numpy as np\n",
    "\n",
    "x = np.array([[1, 2, 3], [4, 5, 6]])\n",
    "y = np.array([[7, 8], [9, 10], [11, 12]])\n",
    "\n",
    "print(np.dot(x,y))"
   ]
  },
  {
   "cell_type": "markdown",
   "metadata": {},
   "source": [
    "## Matrix"
   ]
  },
  {
   "cell_type": "markdown",
   "metadata": {},
   "source": [
    "Matrices are two-dimensional while `ndarrays` are multidimensional"
   ]
  },
  {
   "cell_type": "code",
   "execution_count": 21,
   "metadata": {},
   "outputs": [
    {
     "name": "stdout",
     "output_type": "stream",
     "text": [
      "[[1 2]\n",
      " [4 5]]\n"
     ]
    }
   ],
   "source": [
    "import numpy as np\n",
    "\n",
    "x = np.matrix([[1, 2], [4, 5]])\n",
    "\n",
    "print(x)"
   ]
  },
  {
   "cell_type": "code",
   "execution_count": 22,
   "metadata": {},
   "outputs": [
    {
     "name": "stdout",
     "output_type": "stream",
     "text": [
      "[[1 2]\n",
      " [3 4]]\n"
     ]
    }
   ],
   "source": [
    "# convert NumPy array to matrix\n",
    "\n",
    "import numpy as np\n",
    "\n",
    "x = np.array([[1, 2], [3, 4]])\n",
    "y = np.asmatrix(x)\n",
    "\n",
    "print(y)"
   ]
  },
  {
   "cell_type": "markdown",
   "metadata": {},
   "source": [
    "When multiplying two `ndarray`s, the result is element-wise multiplication.\n",
    "\n",
    "When multiplying two matrices, the result is the dot product."
   ]
  },
  {
   "cell_type": "code",
   "execution_count": 23,
   "metadata": {},
   "outputs": [
    {
     "name": "stdout",
     "output_type": "stream",
     "text": [
      "[[ 7 10]\n",
      " [15 22]]\n",
      "\n",
      "[[11 14]\n",
      " [38 47]]\n"
     ]
    }
   ],
   "source": [
    "import numpy as np\n",
    "\n",
    "x1 = np.array([[1, 2], [4, 5]])\n",
    "y1 = np.array([[7, 8], [2, 3]])\n",
    "\n",
    "print(x*y)\n",
    "\n",
    "print()\n",
    "\n",
    "x2 = np.matrix([[1, 2], [4, 5]])\n",
    "y2 = np.matrix([[7, 8], [2, 3]])\n",
    "\n",
    "print(x2*y2)"
   ]
  },
  {
   "cell_type": "markdown",
   "metadata": {},
   "source": [
    "## Cumulative Sum"
   ]
  },
  {
   "cell_type": "markdown",
   "metadata": {},
   "source": [
    "### `cumsum()`"
   ]
  },
  {
   "cell_type": "code",
   "execution_count": 24,
   "metadata": {},
   "outputs": [
    {
     "name": "stdout",
     "output_type": "stream",
     "text": [
      "[[1 2 3]\n",
      " [4 5 6]\n",
      " [7 8 9]]\n",
      "\n",
      "[ 1  3  6 10 15 21 28 36 45]\n"
     ]
    }
   ],
   "source": [
    "import numpy as np\n",
    "\n",
    "a = np.array([(1, 2, 3), (4, 5, 6), (7, 8, 9)])\n",
    "print(a)\n",
    "\n",
    "print()\n",
    "\n",
    "print(a.cumsum())"
   ]
  },
  {
   "cell_type": "code",
   "execution_count": 25,
   "metadata": {},
   "outputs": [
    {
     "name": "stdout",
     "output_type": "stream",
     "text": [
      "[[1 2 3]\n",
      " [4 5 6]\n",
      " [7 8 9]]\n",
      "\n",
      "[[ 1  2  3]\n",
      " [ 5  7  9]\n",
      " [12 15 18]]\n"
     ]
    }
   ],
   "source": [
    "import numpy as np\n",
    "\n",
    "a = np.array([(1, 2, 3), (4, 5, 6), (7, 8, 9)])\n",
    "print(a)\n",
    "\n",
    "print()\n",
    "\n",
    "print(a.cumsum(axis=0)) # sum over rows"
   ]
  },
  {
   "cell_type": "code",
   "execution_count": 26,
   "metadata": {},
   "outputs": [
    {
     "name": "stdout",
     "output_type": "stream",
     "text": [
      "[[1 2 3]\n",
      " [4 5 6]\n",
      " [7 8 9]]\n",
      "\n",
      "[[ 1  3  6]\n",
      " [ 4  9 15]\n",
      " [ 7 15 24]]\n"
     ]
    }
   ],
   "source": [
    "import numpy as np\n",
    "\n",
    "a = np.array([(1, 2, 3), (4, 5, 6), (7, 8, 9)])\n",
    "print(a)\n",
    "\n",
    "print()\n",
    "\n",
    "print(a.cumsum(axis=1)) # sum over columns"
   ]
  },
  {
   "cell_type": "markdown",
   "metadata": {},
   "source": [
    "## Sorting"
   ]
  },
  {
   "cell_type": "markdown",
   "metadata": {},
   "source": [
    "### `sort()`"
   ]
  },
  {
   "cell_type": "code",
   "execution_count": 27,
   "metadata": {},
   "outputs": [
    {
     "name": "stdout",
     "output_type": "stream",
     "text": [
      "[ 5 12 13 34 37]\n",
      "\n",
      "[34 12 37  5 13]\n"
     ]
    }
   ],
   "source": [
    "import numpy as np\n",
    "\n",
    "a = np.array([34, 12, 37, 5, 13])\n",
    "\n",
    "print(np.sort(a)) # does not modify original array\n",
    "\n",
    "print()\n",
    "\n",
    "print(a)"
   ]
  },
  {
   "cell_type": "markdown",
   "metadata": {},
   "source": [
    "### `argsort()`"
   ]
  },
  {
   "cell_type": "code",
   "execution_count": 28,
   "metadata": {},
   "outputs": [
    {
     "name": "stdout",
     "output_type": "stream",
     "text": [
      "[3 1 4 0 2]\n"
     ]
    }
   ],
   "source": [
    "import numpy as np\n",
    "\n",
    "a = np.array([34, 12, 37, 5, 13])\n",
    "\n",
    "print(a.argsort()) # returns indices of sorted elements"
   ]
  },
  {
   "cell_type": "code",
   "execution_count": 29,
   "metadata": {},
   "outputs": [
    {
     "name": "stdout",
     "output_type": "stream",
     "text": [
      "['First' 'Second' 'Third' 'Fourth' 'Fifth']\n",
      "\n",
      "['Fifth' 'Fourth' 'Third' 'Second' 'First']\n"
     ]
    }
   ],
   "source": [
    "import numpy as np\n",
    "\n",
    "persons = np.array(['Fourth', 'Second', 'Fifth', 'First', 'Third'])\n",
    "ages = np.array([34, 12, 37, 5, 13])\n",
    "\n",
    "sort_indices = np.argsort(ages)\n",
    "\n",
    "print(persons[sort_indices])\n",
    "\n",
    "print()\n",
    "\n",
    "reverse_sort_indices = np.argsort(ages)[::-1]\n",
    "\n",
    "print(persons[reverse_sort_indices])"
   ]
  },
  {
   "cell_type": "markdown",
   "metadata": {},
   "source": [
    "## Array Assignment"
   ]
  },
  {
   "cell_type": "markdown",
   "metadata": {},
   "source": [
    "### Copy by Reference"
   ]
  },
  {
   "cell_type": "code",
   "execution_count": 30,
   "metadata": {},
   "outputs": [],
   "source": [
    "import numpy as np\n",
    "\n",
    "a = np.array([[1, 2, 3, 4], [5, 6, 7, 8]])\n",
    "\n",
    "b = a # b is pointing to a"
   ]
  },
  {
   "cell_type": "markdown",
   "metadata": {},
   "source": [
    "### Copy by View (Shallow Copy)\n",
    "\n",
    "Creates a copy by reference, but changing the shape does not change the shape of the original\n",
    "\n",
    "Values will still change"
   ]
  },
  {
   "cell_type": "markdown",
   "metadata": {},
   "source": [
    "### `view()`"
   ]
  },
  {
   "cell_type": "code",
   "execution_count": 31,
   "metadata": {},
   "outputs": [
    {
     "name": "stdout",
     "output_type": "stream",
     "text": [
      "[[9 2 3 4 5 6 7 8]]\n",
      "\n",
      "[[9 2 3 4]\n",
      " [5 6 7 8]]\n"
     ]
    }
   ],
   "source": [
    "import numpy as np\n",
    "\n",
    "a = np.array([[1, 2, 3, 4], [5, 6, 7, 8]])\n",
    "\n",
    "b = a.view()\n",
    "\n",
    "a.shape = 1, -1\n",
    "a[0,0] = 9\n",
    "\n",
    "print(a)\n",
    "\n",
    "print()\n",
    "\n",
    "print(b)"
   ]
  },
  {
   "cell_type": "markdown",
   "metadata": {},
   "source": [
    "### Copy by Value (Deep Copy)"
   ]
  },
  {
   "cell_type": "markdown",
   "metadata": {},
   "source": [
    "### `copy()`"
   ]
  },
  {
   "cell_type": "code",
   "execution_count": 32,
   "metadata": {},
   "outputs": [
    {
     "name": "stdout",
     "output_type": "stream",
     "text": [
      "[[9 2 3 4]\n",
      " [5 6 7 8]]\n",
      "\n",
      "[[1 2 3 4]\n",
      " [5 6 7 8]]\n"
     ]
    }
   ],
   "source": [
    "import numpy as np\n",
    "\n",
    "a = np.array([[1, 2, 3, 4], [5, 6, 7, 8]])\n",
    "\n",
    "b = a.copy()\n",
    "\n",
    "a[0][0] = 9\n",
    "\n",
    "print(a)\n",
    "\n",
    "print()\n",
    "\n",
    "print(b)"
   ]
  }
 ],
 "metadata": {
  "kernelspec": {
   "display_name": "Python 3",
   "language": "python",
   "name": "python3"
  },
  "language_info": {
   "codemirror_mode": {
    "name": "ipython",
    "version": 3
   },
   "file_extension": ".py",
   "mimetype": "text/x-python",
   "name": "python",
   "nbconvert_exporter": "python",
   "pygments_lexer": "ipython3",
   "version": "3.7.3"
  }
 },
 "nbformat": 4,
 "nbformat_minor": 2
}
